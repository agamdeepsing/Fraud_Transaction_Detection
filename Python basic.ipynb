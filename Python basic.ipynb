{
 "cells": [
  {
   "cell_type": "code",
   "execution_count": 3,
   "id": "83a9a36f",
   "metadata": {},
   "outputs": [
    {
     "name": "stdout",
     "output_type": "stream",
     "text": [
      "this is my first python program \n"
     ]
    }
   ],
   "source": [
    "print(\"this is my first python program \")"
   ]
  },
  {
   "cell_type": "code",
   "execution_count": 8,
   "id": "52d00235",
   "metadata": {},
   "outputs": [],
   "source": [
    "#comments\n",
    "#cdjan\n",
    "#vdal\n",
    "#sadf'f\n",
    "#af\n",
    "#a\n",
    "#dsdafsdaf\n",
    "#adsccd\n"
   ]
  },
  {
   "cell_type": "code",
   "execution_count": 9,
   "id": "ee2ff9aa",
   "metadata": {},
   "outputs": [],
   "source": [
    "a= 10"
   ]
  },
  {
   "cell_type": "code",
   "execution_count": 10,
   "id": "e2e1084f",
   "metadata": {},
   "outputs": [
    {
     "data": {
      "text/plain": [
       "10"
      ]
     },
     "execution_count": 10,
     "metadata": {},
     "output_type": "execute_result"
    }
   ],
   "source": [
    "a"
   ]
  },
  {
   "cell_type": "code",
   "execution_count": 14,
   "id": "37bb7731",
   "metadata": {},
   "outputs": [],
   "source": [
    "name = 'agam'\n"
   ]
  },
  {
   "cell_type": "code",
   "execution_count": 15,
   "id": "3af1c34d",
   "metadata": {},
   "outputs": [
    {
     "name": "stdout",
     "output_type": "stream",
     "text": [
      "agam\n"
     ]
    }
   ],
   "source": [
    "print(name)"
   ]
  },
  {
   "cell_type": "code",
   "execution_count": 19,
   "id": "3ecf49da",
   "metadata": {},
   "outputs": [
    {
     "data": {
      "text/plain": [
       "str"
      ]
     },
     "execution_count": 19,
     "metadata": {},
     "output_type": "execute_result"
    }
   ],
   "source": [
    "type(name)"
   ]
  },
  {
   "cell_type": "code",
   "execution_count": 20,
   "id": "8b068aa7",
   "metadata": {},
   "outputs": [],
   "source": [
    "a = 45\n",
    "b= \"agam\""
   ]
  },
  {
   "cell_type": "code",
   "execution_count": 21,
   "id": "814d1b6e",
   "metadata": {},
   "outputs": [],
   "source": [
    "a,b = 45, \"agam\""
   ]
  },
  {
   "cell_type": "code",
   "execution_count": 22,
   "id": "28f4832a",
   "metadata": {},
   "outputs": [],
   "source": [
    "name = \"agam\"\n",
    "userid= \"dskl\"\n",
    "password = \"ajkldj\"\n",
    "mailid = \"dndjd\""
   ]
  },
  {
   "cell_type": "code",
   "execution_count": 34,
   "id": "ce6f1b89",
   "metadata": {},
   "outputs": [
    {
     "name": "stdout",
     "output_type": "stream",
     "text": [
      "agam dskl ajkldj dndjd\n"
     ]
    }
   ],
   "source": [
    "print(name,userid,password,mailid, end = '\\n')"
   ]
  },
  {
   "cell_type": "code",
   "execution_count": 36,
   "id": "e6dcadfe",
   "metadata": {},
   "outputs": [
    {
     "data": {
      "text/plain": [
       "'1agam'"
      ]
     },
     "execution_count": 36,
     "metadata": {},
     "output_type": "execute_result"
    }
   ],
   "source": [
    "str(1) + \"agam\""
   ]
  },
  {
   "cell_type": "code",
   "execution_count": 38,
   "id": "b928ea12",
   "metadata": {},
   "outputs": [
    {
     "name": "stdout",
     "output_type": "stream",
     "text": [
      "enter a integer: hhfeuha\n"
     ]
    }
   ],
   "source": [
    "a = input(\"enter a integer: \")"
   ]
  },
  {
   "cell_type": "code",
   "execution_count": 44,
   "id": "7a51bd6d",
   "metadata": {},
   "outputs": [
    {
     "name": "stdout",
     "output_type": "stream",
     "text": [
      "enteer a value12\n",
      "enteer a value34\n",
      "enteer a value5\n"
     ]
    }
   ],
   "source": [
    "a = int(input(\"enteer a value\"))\n",
    "b = int(input(\"enteer a value\"))\n",
    "c = int(input(\"enteer a value\"))\n"
   ]
  },
  {
   "cell_type": "code",
   "execution_count": 45,
   "id": "0f118d09",
   "metadata": {},
   "outputs": [
    {
     "data": {
      "text/plain": [
       "(12, 34, 5)"
      ]
     },
     "execution_count": 45,
     "metadata": {},
     "output_type": "execute_result"
    }
   ],
   "source": [
    "a,b,c"
   ]
  },
  {
   "cell_type": "code",
   "execution_count": 47,
   "id": "a621a10d",
   "metadata": {},
   "outputs": [],
   "source": [
    "o =a+b/c"
   ]
  },
  {
   "cell_type": "code",
   "execution_count": 50,
   "id": "0ce58ab2",
   "metadata": {},
   "outputs": [],
   "source": [
    "j = o+ (18+7j)"
   ]
  },
  {
   "cell_type": "code",
   "execution_count": 51,
   "id": "e9272d9e",
   "metadata": {},
   "outputs": [
    {
     "ename": "TypeError",
     "evalue": "unsupported operand type(s) for +: 'complex' and 'str'",
     "output_type": "error",
     "traceback": [
      "\u001b[1;31m---------------------------------------------------------------------------\u001b[0m",
      "\u001b[1;31mTypeError\u001b[0m                                 Traceback (most recent call last)",
      "Cell \u001b[1;32mIn[51], line 1\u001b[0m\n\u001b[1;32m----> 1\u001b[0m \u001b[43mj\u001b[49m\u001b[43m \u001b[49m\u001b[38;5;241;43m+\u001b[39;49m\u001b[43m \u001b[49m\u001b[38;5;124;43m\"\u001b[39;49m\u001b[38;5;124;43magam\u001b[39;49m\u001b[38;5;124;43m\"\u001b[39;49m\n",
      "\u001b[1;31mTypeError\u001b[0m: unsupported operand type(s) for +: 'complex' and 'str'"
     ]
    }
   ],
   "source": [
    "j + \"agam\""
   ]
  },
  {
   "cell_type": "markdown",
   "id": "1b850398",
   "metadata": {},
   "source": [
    "\n",
    "print(g)"
   ]
  },
  {
   "cell_type": "code",
   "execution_count": 58,
   "id": "f18e4c39",
   "metadata": {},
   "outputs": [
    {
     "name": "stdout",
     "output_type": "stream",
     "text": [
      "enter a number: 78\n",
      "data lesser than 100\n"
     ]
    }
   ],
   "source": [
    "a = int(input(\"enter a number: \"))\n",
    "if a <34:\n",
    "    print(\"data is lesser than 34\")\n",
    "elif a <100:\n",
    "    print(\"data lesser than 100\")\n",
    "\n",
    "else:\n",
    "    print(\"enter another number\")\n",
    "    "
   ]
  },
  {
   "cell_type": "code",
   "execution_count": 4,
   "id": "ddbd36d4",
   "metadata": {},
   "outputs": [
    {
     "name": "stdout",
     "output_type": "stream",
     "text": [
      "not valid\n"
     ]
    }
   ],
   "source": [
    "a = 10 \n",
    "b = 20\n",
    "if a == 10 and b > 20:\n",
    "    print(\"this is a valid statement \")\n",
    "else:\n",
    "    print(\"not valid\")"
   ]
  },
  {
   "cell_type": "code",
   "execution_count": 3,
   "id": "ea214bce",
   "metadata": {},
   "outputs": [
    {
     "data": {
      "text/plain": [
       "True"
      ]
     },
     "execution_count": 3,
     "metadata": {},
     "output_type": "execute_result"
    }
   ],
   "source": [
    "a == 10 and b == 20"
   ]
  },
  {
   "cell_type": "code",
   "execution_count": 5,
   "id": "820bcb0d",
   "metadata": {},
   "outputs": [
    {
     "name": "stdout",
     "output_type": "stream",
     "text": [
      "this is my speed\n",
      "this is my speed\n",
      "this is my speed\n",
      "this is my speed\n",
      "this is my speed\n",
      "this is my speed\n",
      "this is my speed\n",
      "this is my speed\n",
      "this is my speed\n",
      "this is my speed\n"
     ]
    }
   ],
   "source": [
    "initial_speed = 0\n",
    "final_speed = 100\n",
    "count = 0\n",
    "while initial_speed < final_speed:\n",
    "    print(\"this is my speed\")\n",
    "    count += 1\n",
    "    if count == 10:\n",
    "        break"
   ]
  },
  {
   "cell_type": "code",
   "execution_count": null,
   "id": "4b76bbd6",
   "metadata": {},
   "outputs": [],
   "source": []
  }
 ],
 "metadata": {
  "kernelspec": {
   "display_name": "Python 3 (ipykernel)",
   "language": "python",
   "name": "python3"
  },
  "language_info": {
   "codemirror_mode": {
    "name": "ipython",
    "version": 3
   },
   "file_extension": ".py",
   "mimetype": "text/x-python",
   "name": "python",
   "nbconvert_exporter": "python",
   "pygments_lexer": "ipython3",
   "version": "3.10.9"
  }
 },
 "nbformat": 4,
 "nbformat_minor": 5
}
