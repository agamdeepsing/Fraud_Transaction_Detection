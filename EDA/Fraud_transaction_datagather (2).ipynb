{
  "nbformat": 4,
  "nbformat_minor": 0,
  "metadata": {
    "colab": {
      "provenance": []
    },
    "kernelspec": {
      "name": "python3",
      "display_name": "Python 3"
    },
    "language_info": {
      "name": "python"
    }
  },
  "cells": [
    {
      "cell_type": "code",
      "execution_count": 12,
      "metadata": {
        "colab": {
          "base_uri": "https://localhost:8080/"
        },
        "id": "Up4metV0sAVx",
        "outputId": "357f2e8e-c8e4-4674-d6dc-16dffbdf3ab4"
      },
      "outputs": [
        {
          "output_type": "stream",
          "name": "stdout",
          "text": [
            "Requirement already satisfied: cassandra-driver in /usr/local/lib/python3.10/dist-packages (3.28.0)\n",
            "Requirement already satisfied: six>=1.9 in /usr/local/lib/python3.10/dist-packages (from cassandra-driver) (1.16.0)\n",
            "Requirement already satisfied: geomet<0.3,>=0.1 in /usr/local/lib/python3.10/dist-packages (from cassandra-driver) (0.2.1.post1)\n",
            "Requirement already satisfied: click in /usr/local/lib/python3.10/dist-packages (from geomet<0.3,>=0.1->cassandra-driver) (8.1.7)\n"
          ]
        }
      ],
      "source": [
        "!pip install cassandra-driver"
      ]
    },
    {
      "cell_type": "code",
      "source": [
        "from google.colab import drive"
      ],
      "metadata": {
        "id": "xHnCupFKsuFD"
      },
      "execution_count": 27,
      "outputs": []
    },
    {
      "cell_type": "code",
      "source": [
        "drive.mount('/content/drive')"
      ],
      "metadata": {
        "colab": {
          "base_uri": "https://localhost:8080/"
        },
        "id": "0v50BxIRtOH8",
        "outputId": "26eaf4a8-74ae-4314-9d85-49885cd077ca"
      },
      "execution_count": 28,
      "outputs": [
        {
          "output_type": "stream",
          "name": "stdout",
          "text": [
            "Mounted at /content/drive\n"
          ]
        }
      ]
    },
    {
      "cell_type": "code",
      "source": [
        "import pandas as pd"
      ],
      "metadata": {
        "id": "i71ZTCl5tTry"
      },
      "execution_count": 29,
      "outputs": []
    },
    {
      "cell_type": "code",
      "source": [
        "import numpy as np"
      ],
      "metadata": {
        "id": "Gl4GUlB6tjvZ"
      },
      "execution_count": 30,
      "outputs": []
    },
    {
      "cell_type": "code",
      "source": [
        "\n",
        "from cassandra.cluster import Cluster\n",
        "from cassandra.auth import PlainTextAuthProvider\n",
        "import json"
      ],
      "metadata": {
        "id": "CTkWSkRrtmNY"
      },
      "execution_count": 24,
      "outputs": []
    },
    {
      "cell_type": "code",
      "source": [
        "cloud_config= {\n",
        "        'secure_connect_bundle': r'/content/drive/MyDrive/secure-connect-fraud.zip'\n",
        "}"
      ],
      "metadata": {
        "id": "JS_bcP4htq_O"
      },
      "execution_count": 31,
      "outputs": []
    },
    {
      "cell_type": "code",
      "source": [
        "auth_provider = PlainTextAuthProvider(\"xfibsSrDJknSnkelHcYeohiO\",\"r-oebwHbHiwNa,CeFhDZQ3PnyklGT1,,vXvkaYE-IpZ6a045i6+cWkXMm7W7w168AbqDBagvSnd6PjlbBvTYKiAxNMKqN1fN0DKYiljXuM8R0H6suah9JBF,AsHwk_U8\")\n",
        "cluster = Cluster(cloud=cloud_config, auth_provider=auth_provider)\n",
        "session = cluster.connect()\n",
        "session.set_keyspace(\"transaction1\")\n",
        "session.default_fetch_size=None\n",
        "\n"
      ],
      "metadata": {
        "colab": {
          "base_uri": "https://localhost:8080/"
        },
        "id": "B7N-JO990vA1",
        "outputId": "3f2370da-e2e1-4e55-cc87-7f54676d84f0"
      },
      "execution_count": 32,
      "outputs": [
        {
          "output_type": "stream",
          "name": "stderr",
          "text": [
            "WARNING:cassandra.cluster:Downgrading core protocol version from 66 to 65 for 2497d7bc-4600-49c1-8611-b93f92e50543-us-east1.db.astra.datastax.com:29042:cd1f08bf-1bb8-44f6-a413-2caaf7733f3a. To avoid this, it is best practice to explicitly set Cluster(protocol_version) to the version supported by your cluster. http://datastax.github.io/python-driver/api/cassandra/cluster.html#cassandra.cluster.Cluster.protocol_version\n",
            "WARNING:cassandra.cluster:Downgrading core protocol version from 65 to 5 for 2497d7bc-4600-49c1-8611-b93f92e50543-us-east1.db.astra.datastax.com:29042:cd1f08bf-1bb8-44f6-a413-2caaf7733f3a. To avoid this, it is best practice to explicitly set Cluster(protocol_version) to the version supported by your cluster. http://datastax.github.io/python-driver/api/cassandra/cluster.html#cassandra.cluster.Cluster.protocol_version\n",
            "ERROR:cassandra.connection:Closing connection <AsyncoreConnection(136959723626288) 2497d7bc-4600-49c1-8611-b93f92e50543-us-east1.db.astra.datastax.com:29042:cd1f08bf-1bb8-44f6-a413-2caaf7733f3a> due to protocol error: Error from server: code=000a [Protocol error] message=\"Beta version of the protocol used (5/v5-beta), but USE_BETA flag is unset\"\n",
            "WARNING:cassandra.cluster:Downgrading core protocol version from 5 to 4 for 2497d7bc-4600-49c1-8611-b93f92e50543-us-east1.db.astra.datastax.com:29042:cd1f08bf-1bb8-44f6-a413-2caaf7733f3a. To avoid this, it is best practice to explicitly set Cluster(protocol_version) to the version supported by your cluster. http://datastax.github.io/python-driver/api/cassandra/cluster.html#cassandra.cluster.Cluster.protocol_version\n"
          ]
        }
      ]
    },
    {
      "cell_type": "code",
      "source": [],
      "metadata": {
        "id": "lhddV2YQ2o6m"
      },
      "execution_count": null,
      "outputs": []
    }
  ]
}